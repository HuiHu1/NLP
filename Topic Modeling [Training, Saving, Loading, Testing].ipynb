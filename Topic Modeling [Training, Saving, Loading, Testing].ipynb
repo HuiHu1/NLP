{
 "cells": [
  {
   "cell_type": "code",
   "execution_count": 7,
   "id": "eae459a9",
   "metadata": {},
   "outputs": [
    {
     "name": "stdout",
     "output_type": "stream",
     "text": [
      "\n",
      "Saved under dbpedia_sample_abstract_20k_unprep.txt\n",
      "\n",
      "Saved under dbpedia_sample_abstract_20k_prep.txt\n"
     ]
    }
   ],
   "source": [
    "!python -m wget https://raw.githubusercontent.com/vinid/data/master/dbpedia_sample_abstract_20k_unprep.txt\n",
    "!python -m wget https://raw.githubusercontent.com/vinid/data/master/dbpedia_sample_abstract_20k_prep.txt"
   ]
  },
  {
   "cell_type": "code",
   "execution_count": 1,
   "id": "8bb4a7b5",
   "metadata": {},
   "outputs": [],
   "source": [
    "#Importing what we need\n",
    "from contextualized_topic_models.models.ctm import CombinedTM\n",
    "from contextualized_topic_models.utils.data_preparation import bert_embeddings_from_file, TopicModelDataPreparation\n",
    "from contextualized_topic_models.datasets.dataset import CTMDataset\n",
    "from contextualized_topic_models.evaluation.measures import CoherenceNPMI, InvertedRBO\n",
    "from gensim.corpora.dictionary import Dictionary\n",
    "from gensim.models import ldamodel \n",
    "import os\n",
    "import numpy as np\n",
    "import pickle"
   ]
  },
  {
   "cell_type": "code",
   "execution_count": 6,
   "id": "eb927c74",
   "metadata": {},
   "outputs": [
    {
     "data": {
      "text/plain": [
       "'mid peninsula highway proposed across peninsula canadian province ontario although highway connecting hamilton fort south international study published ministry'"
      ]
     },
     "execution_count": 6,
     "metadata": {},
     "output_type": "execute_result"
    }
   ],
   "source": [
    "with open(\"dbpedia_sample_abstract_20k_prep.txt\",\"r\") as f1:\n",
    "    text_training_processed = [line.strip() for line in f1.readlines()]\n",
    "text_training_processed[0]\n",
    "with open(\"dbpedia_sample_abstract_20k_unprep.txt\",\"r\") as f2:\n",
    "    text_training_not_processed = [line.strip() for line in f2.readlines()]\n",
    "assert len(text_training_processed) == len(text_training_not_processed)"
   ]
  },
  {
   "cell_type": "code",
   "execution_count": 7,
   "id": "2c7e2f9f",
   "metadata": {},
   "outputs": [],
   "source": [
    "#Split the documents in training and testing\n",
    "index = 15000\n",
    "training_documents = text_training_processed[0:index]\n",
    "un_training_documents = text_training_not_processed[0:index]\n",
    "testing_documents = text_training_processed[index:]\n",
    "un_testing_documents = text_training_not_processed[index:]"
   ]
  },
  {
   "cell_type": "code",
   "execution_count": null,
   "id": "a8cd6ff8",
   "metadata": {},
   "outputs": [],
   "source": [
    "#Creating the Training Dataset\n",
    "tp = TopicModelDataPreparation(\"bert-base-nli-mean-tokens\")\n",
    "training_dataset = tp.create_training_set(un_training_documents,training_documents)"
   ]
  },
  {
   "cell_type": "code",
   "execution_count": null,
   "id": "8bfb04c8",
   "metadata": {},
   "outputs": [],
   "source": [
    "#Training our Combined Contextualized Topic Model\n",
    "ctm = CombinedTM(input_size=len(tp.vocab), bert_input_size=768, num_epochs=100, n_components=50)\n",
    "ctm.fit(training_dataset) "
   ]
  },
  {
   "cell_type": "code",
   "execution_count": null,
   "id": "99948fc0",
   "metadata": {},
   "outputs": [],
   "source": [
    "#Saving the model\n",
    "ctm.save(models_dir=\"./\")"
   ]
  },
  {
   "cell_type": "code",
   "execution_count": null,
   "id": "b918a328",
   "metadata": {},
   "outputs": [],
   "source": [
    "#Loading the Model\n",
    "del ctm"
   ]
  },
  {
   "cell_type": "code",
   "execution_count": null,
   "id": "add0d22b",
   "metadata": {},
   "outputs": [],
   "source": [
    "ctm = CombinedTM(input_size=len(tp.vocab), bert_input_size=768, num_epochs=100, n_components=50)\n",
    "ctm.load(\"contextualized_topic_model_nc_50_tpm_0.0_tpv_0.98_hs_prodLDA_ac_(100, 100)_do_softplus_lr_0.2_mo_0.002_rp_0.99/\",\n",
    "                                                                                                      epoch=26)"
   ]
  },
  {
   "cell_type": "code",
   "execution_count": null,
   "id": "1619da61",
   "metadata": {},
   "outputs": [],
   "source": [
    "#Look at our topics\n",
    "get_topic_lists\n",
    "ctm.get_topic_lists(5)"
   ]
  },
  {
   "cell_type": "code",
   "execution_count": null,
   "id": "cb04a7db",
   "metadata": {},
   "outputs": [],
   "source": [
    "#Using the testset\n",
    "testing_dataset = tp.create_test_set(un_testing_documents,testing_documents)\n",
    "predictions = ctm.get_doc_topic_distribution(testing_dataset, n_samples=10)\n",
    "topic_index = np.argmax(predictions[15])\n",
    "ctm.get_topic_lists(5)[topic_index]"
   ]
  }
 ],
 "metadata": {
  "kernelspec": {
   "display_name": "Python 3 (ipykernel)",
   "language": "python",
   "name": "python3"
  },
  "language_info": {
   "codemirror_mode": {
    "name": "ipython",
    "version": 3
   },
   "file_extension": ".py",
   "mimetype": "text/x-python",
   "name": "python",
   "nbconvert_exporter": "python",
   "pygments_lexer": "ipython3",
   "version": "3.9.13"
  }
 },
 "nbformat": 4,
 "nbformat_minor": 5
}
