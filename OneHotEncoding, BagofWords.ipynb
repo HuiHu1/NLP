{
 "cells": [
  {
   "cell_type": "code",
   "execution_count": 5,
   "id": "d41075a6",
   "metadata": {},
   "outputs": [
    {
     "data": {
      "text/plain": [
       "['dog bites man', 'man likes dog', 'dog eats meat', 'man eats food']"
      ]
     },
     "execution_count": 5,
     "metadata": {},
     "output_type": "execute_result"
    }
   ],
   "source": [
    "documents = [\"Dog bites man.\",\"Man likes dog.\",\"Dog eats meat.\",\"Man eats food.\"]\n",
    "docs = [doc.lower().replace(\".\",\"\") for doc in documents]\n",
    "docs"
   ]
  },
  {
   "cell_type": "code",
   "execution_count": 6,
   "id": "0e804cd5",
   "metadata": {},
   "outputs": [
    {
     "data": {
      "text/plain": [
       "{'dog': 1, 'bites': 2, 'man': 3, 'likes': 4, 'eats': 5, 'meat': 6, 'food': 7}"
      ]
     },
     "execution_count": 6,
     "metadata": {},
     "output_type": "execute_result"
    }
   ],
   "source": [
    "vocab ={}\n",
    "count = 0\n",
    "for doc in docs:\n",
    "    for word in doc.split():\n",
    "        if word not in vocab:\n",
    "            count +=1\n",
    "            vocab[word] = count\n",
    "vocab"
   ]
  },
  {
   "cell_type": "code",
   "execution_count": 7,
   "id": "71472fe3",
   "metadata": {},
   "outputs": [
    {
     "name": "stdout",
     "output_type": "stream",
     "text": [
      "[[1, 0, 0, 0, 0, 0, 0], [0, 1, 0, 0, 0, 0, 0], [0, 0, 1, 0, 0, 0, 0]]\n",
      "[[0, 0, 1, 0, 0, 0, 0], [0, 0, 0, 1, 0, 0, 0], [1, 0, 0, 0, 0, 0, 0]]\n",
      "[[1, 0, 0, 0, 0, 0, 0], [0, 0, 0, 0, 1, 0, 0], [0, 0, 0, 0, 0, 1, 0]]\n",
      "[[0, 0, 1, 0, 0, 0, 0], [0, 0, 0, 0, 1, 0, 0], [0, 0, 0, 0, 0, 0, 1]]\n"
     ]
    }
   ],
   "source": [
    "def one_hot_vector(str1):\n",
    "    onehot_encoded = []\n",
    "    for word in str1.split():\n",
    "        temp = [0]*len(vocab)\n",
    "        if word in vocab:\n",
    "            temp[vocab[word]-1]=1\n",
    "        onehot_encoded.append(temp)\n",
    "    return onehot_encoded\n",
    "for doc in docs:\n",
    "    print(one_hot_vector(doc))"
   ]
  },
  {
   "cell_type": "code",
   "execution_count": 19,
   "id": "6bb5c8e7",
   "metadata": {},
   "outputs": [
    {
     "name": "stdout",
     "output_type": "stream",
     "text": [
      "vocabulary:  {'dog': 1, 'bites': 0, 'man': 5, 'likes': 4, 'eats': 2, 'meat': 6, 'food': 3}\n",
      "representation for 'dog bites man':  [[1 1 0 0 0 1 0]]\n"
     ]
    }
   ],
   "source": [
    "from sklearn.feature_extraction.text import CountVectorizer\n",
    "vect = CountVectorizer()\n",
    "rep = vect.fit_transform(docs)\n",
    "print(\"vocabulary: \", vect.vocabulary_)\n",
    "print(\"representation for 'dog bites man': \", rep[0].toarray())"
   ]
  },
  {
   "cell_type": "code",
   "execution_count": 22,
   "id": "6cd71001",
   "metadata": {},
   "outputs": [
    {
     "name": "stdout",
     "output_type": "stream",
     "text": [
      "vocabulary:  {'dog': 2, 'bites': 0, 'man': 13, 'dog bites': 3, 'bites man': 1, 'dog bites man': 4, 'likes': 11, 'man likes': 16, 'likes dog': 12, 'man likes dog': 17, 'eats': 7, 'meat': 18, 'dog eats': 5, 'eats meat': 9, 'dog eats meat': 6, 'food': 10, 'man eats': 14, 'eats food': 8, 'man eats food': 15}\n",
      "representation for 'dog bites man':  [[1 1 1 1 1 0 0 0 0 0 0 0 0 1 0 0 0 0 0]]\n"
     ]
    }
   ],
   "source": [
    "vect = CountVectorizer(ngram_range=(1,3))\n",
    "rep = vect.fit_transform(docs)\n",
    "print(\"vocabulary: \", vect.vocabulary_)\n",
    "print(\"representation for 'dog bites man': \", rep[0].toarray())"
   ]
  },
  {
   "cell_type": "code",
   "execution_count": 30,
   "id": "7ee64eb8",
   "metadata": {},
   "outputs": [
    {
     "name": "stdout",
     "output_type": "stream",
     "text": [
      "All words in the vocabulary ['bites', 'dog', 'eats', 'food', 'likes', 'man', 'meat']\n",
      "IDF for all words [1.91629073 1.22314355 1.51082562 1.91629073 1.91629073 1.22314355\n",
      " 1.91629073]\n",
      "[[0.         0.         0.         0.         0.64450299 0.41137791\n",
      "  0.64450299]]\n"
     ]
    }
   ],
   "source": [
    "from sklearn.feature_extraction.text import TfidfVectorizer\n",
    "tfidf = TfidfVectorizer()\n",
    "rep = tfidf.fit_transform(docs)\n",
    "print(\"All words in the vocabulary\",tfidf.get_feature_names())\n",
    "print(\"IDF for all words\",tfidf.idf_)\n",
    "temp = tfidf.transform(['man likes meat'])\n",
    "print(temp.toarray())"
   ]
  },
  {
   "cell_type": "code",
   "execution_count": null,
   "id": "84f75e57",
   "metadata": {},
   "outputs": [],
   "source": []
  }
 ],
 "metadata": {
  "kernelspec": {
   "display_name": "Python 3 (ipykernel)",
   "language": "python",
   "name": "python3"
  },
  "language_info": {
   "codemirror_mode": {
    "name": "ipython",
    "version": 3
   },
   "file_extension": ".py",
   "mimetype": "text/x-python",
   "name": "python",
   "nbconvert_exporter": "python",
   "pygments_lexer": "ipython3",
   "version": "3.9.13"
  }
 },
 "nbformat": 4,
 "nbformat_minor": 5
}
