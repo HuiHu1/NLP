{
 "cells": [
  {
   "cell_type": "code",
   "execution_count": 7,
   "metadata": {},
   "outputs": [],
   "source": [
    "#Cell 1: import packages\n",
    "import numpy as np\n",
    "import csv\n",
    "from datetime import datetime\n",
    "from dateutil.parser import parse\n",
    "import binascii\n",
    "import struct"
   ]
  },
  {
   "cell_type": "code",
   "execution_count": 8,
   "metadata": {},
   "outputs": [
    {
     "name": "stdout",
     "output_type": "stream",
     "text": [
      " Read ad_exposures.csv correctly! There are 10000 records!\n",
      " Read sales_data.csv correctly! There are 4492 records!\n"
     ]
    }
   ],
   "source": [
    "#Cell 2: read in two tables：tab1 stores ad_exposures.csv, and tab2 stores sales_data.csv.\n",
    "tab1 = []\n",
    "tab2 = []\n",
    "datafile1 = open('ad_exposures.csv', 'r')\n",
    "reader1 = csv.reader(datafile1)\n",
    "next(reader1)\n",
    "for row in reader1:\n",
    "    tab1.append(row)\n",
    "datafile2 = open('sales_data.csv', 'r')\n",
    "reader2 = csv.reader(datafile2)\n",
    "next(reader2)\n",
    "for row in reader2:\n",
    "    tab2.append(row)\n",
    "    \n",
    "#Checking\n",
    "expected_count1 = 10000\n",
    "actual_count1 = len(tab1)\n",
    "if expected_count1 != actual_count1:\n",
    "    print(f\"  Expected: {expected_count1}, Actual: {actual_count1} for tab1\")\n",
    "else:\n",
    "    print(f\" Read ad_exposures.csv correctly! There are {actual_count1} records!\")\n",
    "expected_count2 = 4492\n",
    "actual_count2 = len(tab2)\n",
    "if expected_count2 != actual_count2:\n",
    "    print(f\"  Expected: {expected_count2}, Actual: {actual_count2} for tab2\")\n",
    "else:\n",
    "    print(f\" Read sales_data.csv correctly! There are {actual_count2} records!\")"
   ]
  },
  {
   "cell_type": "code",
   "execution_count": 9,
   "metadata": {},
   "outputs": [
    {
     "name": "stdout",
     "output_type": "stream",
     "text": [
      " Create dic1 correctly! There are 10000 records!\n",
      " Create dic2 correctly! There are 4492 records!\n"
     ]
    }
   ],
   "source": [
    "#Cell 3: create two dictionaries:\n",
    "#ad_exposures.csv is mapped to dic1. Each record is stored as key(user_id) + values([timestamp,creative_id]).\n",
    "#sales_data.csv is mapped to dic2. Each record is stored as key(user_id) + values([timestamp,amount]).\n",
    "dic1 = {}\n",
    "dic2 = {}\n",
    "\n",
    "for i in range(len(tab1)):\n",
    "    user_id = tab1[i][0]\n",
    "    timestamp = tab1[i][1]\n",
    "    creative_id = tab1[i][2]\n",
    "    if user_id not in dic1.keys():\n",
    "        dic1[user_id] = [[timestamp,creative_id]]\n",
    "    else:\n",
    "        dic1[user_id].append([timestamp,creative_id])\n",
    "for i in range(len(tab2)):\n",
    "    user_id = tab2[i][0]\n",
    "    timestamp = tab2[i][1]\n",
    "    amount = tab2[i][2]\n",
    "    if user_id not in dic2:\n",
    "        dic2[user_id] = [[timestamp,amount]]\n",
    "    else:\n",
    "        dic2[user_id].append([timestamp,amount])\n",
    "\n",
    "#Checking\n",
    "count1 = 0\n",
    "count2 = 0\n",
    "for item in dic1.items():\n",
    "    count1 +=len(dic1[item[0]])\n",
    "for item in dic2.items():\n",
    "    count2 +=len(dic2[item[0]])\n",
    "if(count1!=expected_count1):\n",
    "    print(f\"  Expected: {expected_count1}, Actual: {count1} for dic1\")\n",
    "else:\n",
    "    print(f\" Create dic1 correctly! There are {count1} records!\")\n",
    "if(count2!=expected_count2):\n",
    "    print(f\"  Expected: {expected_count2}, Actual: {count2} for dic2\")\n",
    "else:\n",
    "    print(f\" Create dic2 correctly! There are {count2} records!\")"
   ]
  },
  {
   "cell_type": "code",
   "execution_count": 10,
   "metadata": {},
   "outputs": [],
   "source": [
    "#Cell 4: mapping money to creative_id\n",
    "\n",
    "# First, we design two functions:\n",
    "#Convert time format to hours\n",
    "def to_hours(dt_time):\n",
    "    dt_time = str(dt_time)\n",
    "    if ',' not in dt_time:\n",
    "        days = 0\n",
    "        hours = int(dt_time.split(':')[0])\n",
    "        minutes = int(dt_time.split(':')[1])\n",
    "    else:\n",
    "        first,second = dt_time.split(',')\n",
    "        second = second.lstrip()\n",
    "        days = int(first.split(' ')[0])\n",
    "        hours = int(second.split(':')[0])\n",
    "        minutes = int(second.split(':')[1])\n",
    "    return 24*days+hours+minutes/60\n",
    "\n",
    "#find the corresponding creative_id\n",
    "def amount_to_id(user_id, buy_time, dic1):\n",
    "    scan_time_slots = dic1[user_id]\n",
    "    min_value = float('inf')\n",
    "    status = False\n",
    "    for ele in scan_time_slots:\n",
    "        time = str(ele[0])\n",
    "        if parse(time) < parse(buy_time):\n",
    "            status = True\n",
    "            diff = to_hours(parse(buy_time) - parse(time))\n",
    "            if diff < min_value:\n",
    "                min_value = diff\n",
    "                id_value = ele[1]\n",
    "    if status:\n",
    "        return id_value\n",
    "    else:\n",
    "        return None\n",
    "\n",
    "creative_id = {} # store format: key(creative_id)+values([amount,user_id])\n",
    "for item2 in dic2.items():\n",
    "    user_id = item2[0]\n",
    "    buy_list = item2[1]\n",
    "    for index, element in enumerate(buy_list):\n",
    "        buy_time = str(element[0])\n",
    "        amount = float(element[1])\n",
    "        if user_id in dic1.keys():\n",
    "            cur_id = amount_to_id(user_id, buy_time, dic1)\n",
    "            if cur_id == None:\n",
    "                continue\n",
    "            elif cur_id not in creative_id:\n",
    "                creative_id[cur_id] = [[amount,user_id]]\n",
    "            else:\n",
    "                creative_id[cur_id].append([amount,user_id])\n",
    "#print(creative_id)"
   ]
  },
  {
   "cell_type": "code",
   "execution_count": 11,
   "metadata": {},
   "outputs": [
    {
     "name": "stdout",
     "output_type": "stream",
     "text": [
      "1080\n"
     ]
    }
   ],
   "source": [
    "#Cell 5: Get the final result\n",
    "final_creative = {} # store format: key(creative_id)+values([money,user_num,user_id])\n",
    "for ele in creative_id.items():\n",
    "    c_id = ele[0]\n",
    "    info = ele[1]\n",
    "    total_amount = 0\n",
    "    user_id = []\n",
    "    for index, element in enumerate(info):\n",
    "        total_amount += element[0]\n",
    "        if element[1] not in user_id:\n",
    "            user_id.append(str(element[1]))\n",
    "    final_creative[c_id] = [[total_amount,len(user_id),user_id]]  \n",
    "#Calculate the total users\n",
    "user_list = []\n",
    "for ele in final_creative.items():\n",
    "    user_id_list = ele[1][0][2]\n",
    "    for x in user_id_list:\n",
    "        if x not in user_list:\n",
    "            user_list.append(x)\n",
    "total_user_num = len(user_list) \n",
    "print(total_user_num)"
   ]
  },
  {
   "cell_type": "code",
   "execution_count": 12,
   "metadata": {},
   "outputs": [
    {
     "name": "stdout",
     "output_type": "stream",
     "text": [
      ">> Results are written to Result_0f032163.csv\n"
     ]
    }
   ],
   "source": [
    "#Cell 6: Write the final result into csv\n",
    "result = []\n",
    "for ele in final_creative.items():\n",
    "    r_c_id = ele[0]\n",
    "    r_user_num = ele[1][0][1]\n",
    "    r_amount = ele[1][0][0]\n",
    "    result.append([r_c_id,r_user_num,r_amount])\n",
    "dt = datetime.strptime(str(datetime.now()).split('.')[0], '%Y-%m-%d %H:%M:%S')\n",
    "timestamp = dt.timestamp() # assume dt is a local time\n",
    "datehex = str(binascii.hexlify(struct.pack('<I', round(timestamp))))[1:].replace(\"'\",\"\")\n",
    "filename = f'Result_{datehex}.csv'\n",
    "file = open(filename, 'a+', newline ='')\n",
    "with file:\n",
    "    csvwriter = csv.writer(file)\n",
    "    csvwriter.writerows(result)\n",
    "print(f\">> Results are written to {filename}\")"
   ]
  }
 ],
 "metadata": {
  "kernelspec": {
   "display_name": "Python 3",
   "language": "python",
   "name": "python3"
  },
  "language_info": {
   "codemirror_mode": {
    "name": "ipython",
    "version": 3
   },
   "file_extension": ".py",
   "mimetype": "text/x-python",
   "name": "python",
   "nbconvert_exporter": "python",
   "pygments_lexer": "ipython3",
   "version": "3.8.5"
  }
 },
 "nbformat": 4,
 "nbformat_minor": 4
}
